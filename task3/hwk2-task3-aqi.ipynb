{
 "cells": [
  {
   "cell_type": "code",
   "execution_count": 17,
   "metadata": {
    "deletable": false,
    "editable": false
   },
   "outputs": [],
   "source": [
    "# Initialize Otter\n",
    "import otter\n",
    "grader = otter.Notebook(\"hwk2-task3-aqi.ipynb\")"
   ]
  },
  {
   "cell_type": "markdown",
   "metadata": {},
   "source": [
    "# Task 3: Visualizing AQI during the 2017 Thomas Fire in Santa Barbara County\n",
    "\n",
    "This task covers topics on the lesson on [time series](https://meds-eds-220.github.io/MEDS-eds-220-course/book/chapters/lesson-7-time-series.html). \n",
    "\n",
    "## Instructions \n",
    "\n",
    "- First, update the following cell to have a link to *your* Homework 2 GitHub repository: https://github.com/jaslynmiura/eds220-hwk2\n",
    "\n",
    "\n",
    "- Review the [complete rubric for this task](https://docs.google.com/document/d/131OnUDOLpOl94SlaMU9nGqT998ABrjFS/edit?usp=sharing&ouid=111507336322611936333&rtpof=true&sd=true) before starting.\n",
    "\n",
    "- **Make at least 5 commits. Generally, commit every time you finish a major step.** We'll check your repository and view the commit history.\n",
    "\n",
    "- **Add comments for all your code.** Err on the side of commenting too much for now. Comments should follow best practices.\n",
    "\n",
    "- **Do not update the top cell with the `otter` import**, this is used internally for grading.\n",
    "\n",
    "\n",
    "## About the data\n",
    "\n",
    "In this task you will use [Air Quality Index (AQI)](https://www.airnow.gov/aqi/aqi-basics/) data from the [US Environmental Protection Agency](https://www.epa.gov) to visualize the impact on the AQI of the 2017 [Thomas Fire](https://en.wikipedia.org/wiki/Thomas_Fire) in Santa Barbara County. "
   ]
  },
  {
   "cell_type": "markdown",
   "metadata": {},
   "source": [
    "## FINAL CODE\n",
    "\n",
    "You will use the next code cell to complete the last exercise in the task. Leave it blank for now. "
   ]
  },
  {
   "cell_type": "code",
   "execution_count": null,
   "metadata": {
    "tags": []
   },
   "outputs": [],
   "source": []
  },
  {
   "cell_type": "markdown",
   "metadata": {},
   "source": [
    "## 1\n",
    "\n",
    "a. Read the [Air Quality Index (AQI) Basics](https://www.airnow.gov/aqi/aqi-basics/) from the AirNow.gov portal."
   ]
  },
  {
   "cell_type": "markdown",
   "metadata": {},
   "source": [
    "b. Go to [EPA's website on Air Quality Data Collected at Outdoor Monitors Across the US](https://www.epa.gov/outdoor-air-quality-data). "
   ]
  },
  {
   "cell_type": "markdown",
   "metadata": {},
   "source": [
    "c. Under \"Donwload Data\", click on \"Pre-generated Data Files\"."
   ]
  },
  {
   "cell_type": "markdown",
   "metadata": {},
   "source": [
    "d. Read the \"About the data\" section."
   ]
  },
  {
   "cell_type": "markdown",
   "metadata": {},
   "source": [
    "## 2\n",
    "a. Back in the \"Pre-generated Data Files\" site, click on \"Tables of Daily AQI\".\n",
    "\n",
    "b. Copy the URL to the 2017 Daily AQI **by County** ZIP file `daily_aqi_by_county_2017.zip`\n",
    "\n",
    "Notice we'll be reding the data directly from its ZIP file link. This ZIP file contains a single CSV that has been compressed to save space. "
   ]
  },
  {
   "cell_type": "markdown",
   "metadata": {
    "deletable": false,
    "editable": false
   },
   "source": [
    "<!-- BEGIN QUESTION -->\n",
    "\n",
    "c. In the next code cell read in the data from the URL using the [`pd.read_csv`](https://pandas.pydata.org/docs/reference/api/pandas.read_csv.html) function with the `compression='zip'` parameter added and store it as `aqi_17`. \n",
    "\n",
    "d. In the same cell, read in the data for the 2018 Daily AQI by County ZIP file and store it as `aqi_18`."
   ]
  },
  {
   "cell_type": "code",
   "execution_count": 18,
   "metadata": {},
   "outputs": [],
   "source": [
    "import pandas as pd"
   ]
  },
  {
   "cell_type": "code",
   "execution_count": 19,
   "metadata": {
    "tags": []
   },
   "outputs": [],
   "source": [
    "\n",
    "# Read in data\n",
    "aqi_17 = pd.read_csv('https://aqs.epa.gov/aqsweb/airdata/daily_aqi_by_county_2017.zip')\n",
    "aqi_18 = pd.read_csv('https://aqs.epa.gov/aqsweb/airdata/daily_aqi_by_county_2018.zip')"
   ]
  },
  {
   "cell_type": "markdown",
   "metadata": {
    "deletable": false,
    "editable": false
   },
   "source": [
    "<!-- END QUESTION -->\n",
    "\n",
    "## 3\n",
    "a. and b. Use the next two code cells to look at the head of both data frames. Store your results in `aqi_17_head` and `aqi_18_head`. "
   ]
  },
  {
   "cell_type": "code",
   "execution_count": 20,
   "metadata": {
    "tags": []
   },
   "outputs": [],
   "source": [
    "# a.\n",
    "aqi_17_head = aqi_17.head()"
   ]
  },
  {
   "cell_type": "code",
   "execution_count": 21,
   "metadata": {
    "scrolled": true,
    "tags": []
   },
   "outputs": [],
   "source": [
    "# b.\n",
    "aqi_18_head = aqi_18.head()"
   ]
  },
  {
   "cell_type": "code",
   "execution_count": 22,
   "metadata": {
    "deletable": false,
    "editable": false
   },
   "outputs": [
    {
     "data": {
      "text/html": [
       "<p><strong><pre style='display: inline;'>q3_a</pre></strong> passed! 🙌</p>"
      ],
      "text/plain": [
       "q3_a results: All test cases passed!"
      ]
     },
     "execution_count": 22,
     "metadata": {},
     "output_type": "execute_result"
    }
   ],
   "source": [
    "grader.check(\"q3_a\")"
   ]
  },
  {
   "cell_type": "markdown",
   "metadata": {
    "deletable": false,
    "editable": false,
    "jp-MarkdownHeadingCollapsed": true
   },
   "source": [
    "<!-- BEGIN QUESTION -->\n",
    "\n",
    "c. Use this code cell to make some other preliminary data exploration of your choosing."
   ]
  },
  {
   "cell_type": "code",
   "execution_count": null,
   "metadata": {
    "deletable": false,
    "editable": false
   },
   "outputs": [],
   "source": []
  },
  {
   "cell_type": "markdown",
   "metadata": {
    "deletable": false,
    "editable": false
   },
   "source": [
    "<!-- END QUESTION -->\n",
    "\n",
    "<!-- BEGIN QUESTION -->\n",
    "\n",
    "d. Use this markdown cell to explain why you decided to do the exploration in c. and what information you obtained from doing it."
   ]
  },
  {
   "cell_type": "markdown",
   "metadata": {
    "deletable": false,
    "editable": false
   },
   "source": []
  },
  {
   "cell_type": "markdown",
   "metadata": {
    "deletable": false,
    "editable": false
   },
   "source": [
    "<!-- END QUESTION -->\n",
    "\n",
    "## 4\n",
    "We currently have two separate data frames. For this exercise we will need to \"glue\" them one on top of the other. The `pandas` function `pd.concat()` can achieve this. \n",
    "\n",
    "Pass `[aqi_17, aqi_18]` as the input of `pd.concat()` and store the output as  `aqi`.  \n",
    "In the next line run `aqi`.\n",
    "\n",
    "NOTE: When we concatenate data frames like this, without any extra parameters for `pd.concat()` the indices for the two dataframes are just \"glued together\", the index of the resulting dataframe is not updated to start from 0. Notice the mismatch between the index of `aqi` and the number of rows i the complete data frame.\n"
   ]
  },
  {
   "cell_type": "code",
   "execution_count": 23,
   "metadata": {
    "tags": []
   },
   "outputs": [
    {
     "data": {
      "application/vnd.microsoft.datawrangler.viewer.v0+json": {
       "columns": [
        {
         "name": "index",
         "rawType": "int64",
         "type": "integer"
        },
        {
         "name": "State Name",
         "rawType": "object",
         "type": "string"
        },
        {
         "name": "county Name",
         "rawType": "object",
         "type": "string"
        },
        {
         "name": "State Code",
         "rawType": "int64",
         "type": "integer"
        },
        {
         "name": "County Code",
         "rawType": "int64",
         "type": "integer"
        },
        {
         "name": "Date",
         "rawType": "object",
         "type": "string"
        },
        {
         "name": "AQI",
         "rawType": "int64",
         "type": "integer"
        },
        {
         "name": "Category",
         "rawType": "object",
         "type": "string"
        },
        {
         "name": "Defining Parameter",
         "rawType": "object",
         "type": "string"
        },
        {
         "name": "Defining Site",
         "rawType": "object",
         "type": "string"
        },
        {
         "name": "Number of Sites Reporting",
         "rawType": "int64",
         "type": "integer"
        }
       ],
       "ref": "53afd6cc-4e47-4aa9-99fd-540ae087e198",
       "rows": [
        [
         "0",
         "Alabama",
         "Baldwin",
         "1",
         "3",
         "2017-01-01",
         "28",
         "Good",
         "PM2.5",
         "01-003-0010",
         "1"
        ],
        [
         "1",
         "Alabama",
         "Baldwin",
         "1",
         "3",
         "2017-01-04",
         "29",
         "Good",
         "PM2.5",
         "01-003-0010",
         "1"
        ],
        [
         "2",
         "Alabama",
         "Baldwin",
         "1",
         "3",
         "2017-01-10",
         "25",
         "Good",
         "PM2.5",
         "01-003-0010",
         "1"
        ],
        [
         "3",
         "Alabama",
         "Baldwin",
         "1",
         "3",
         "2017-01-13",
         "40",
         "Good",
         "PM2.5",
         "01-003-0010",
         "1"
        ],
        [
         "4",
         "Alabama",
         "Baldwin",
         "1",
         "3",
         "2017-01-16",
         "22",
         "Good",
         "PM2.5",
         "01-003-0010",
         "1"
        ],
        [
         "5",
         "Alabama",
         "Baldwin",
         "1",
         "3",
         "2017-01-19",
         "26",
         "Good",
         "PM2.5",
         "01-003-0010",
         "1"
        ],
        [
         "6",
         "Alabama",
         "Baldwin",
         "1",
         "3",
         "2017-01-22",
         "39",
         "Good",
         "PM2.5",
         "01-003-0010",
         "1"
        ],
        [
         "7",
         "Alabama",
         "Baldwin",
         "1",
         "3",
         "2017-01-25",
         "23",
         "Good",
         "PM2.5",
         "01-003-0010",
         "1"
        ],
        [
         "8",
         "Alabama",
         "Baldwin",
         "1",
         "3",
         "2017-01-28",
         "32",
         "Good",
         "PM2.5",
         "01-003-0010",
         "1"
        ],
        [
         "9",
         "Alabama",
         "Baldwin",
         "1",
         "3",
         "2017-01-31",
         "19",
         "Good",
         "PM2.5",
         "01-003-0010",
         "1"
        ],
        [
         "10",
         "Alabama",
         "Baldwin",
         "1",
         "3",
         "2017-02-03",
         "44",
         "Good",
         "PM2.5",
         "01-003-0010",
         "1"
        ],
        [
         "11",
         "Alabama",
         "Baldwin",
         "1",
         "3",
         "2017-02-06",
         "50",
         "Good",
         "PM2.5",
         "01-003-0010",
         "1"
        ],
        [
         "12",
         "Alabama",
         "Baldwin",
         "1",
         "3",
         "2017-02-09",
         "41",
         "Good",
         "PM2.5",
         "01-003-0010",
         "1"
        ],
        [
         "13",
         "Alabama",
         "Baldwin",
         "1",
         "3",
         "2017-02-12",
         "42",
         "Good",
         "PM2.5",
         "01-003-0010",
         "1"
        ],
        [
         "14",
         "Alabama",
         "Baldwin",
         "1",
         "3",
         "2017-02-15",
         "29",
         "Good",
         "PM2.5",
         "01-003-0010",
         "1"
        ],
        [
         "15",
         "Alabama",
         "Baldwin",
         "1",
         "3",
         "2017-02-18",
         "26",
         "Good",
         "PM2.5",
         "01-003-0010",
         "1"
        ],
        [
         "16",
         "Alabama",
         "Baldwin",
         "1",
         "3",
         "2017-02-24",
         "21",
         "Good",
         "PM2.5",
         "01-003-0010",
         "1"
        ],
        [
         "17",
         "Alabama",
         "Baldwin",
         "1",
         "3",
         "2017-02-27",
         "44",
         "Good",
         "PM2.5",
         "01-003-0010",
         "1"
        ],
        [
         "18",
         "Alabama",
         "Baldwin",
         "1",
         "3",
         "2017-03-01",
         "36",
         "Good",
         "Ozone",
         "01-003-0010",
         "1"
        ],
        [
         "19",
         "Alabama",
         "Baldwin",
         "1",
         "3",
         "2017-03-02",
         "42",
         "Good",
         "Ozone",
         "01-003-0010",
         "1"
        ],
        [
         "20",
         "Alabama",
         "Baldwin",
         "1",
         "3",
         "2017-03-03",
         "48",
         "Good",
         "Ozone",
         "01-003-0010",
         "1"
        ],
        [
         "21",
         "Alabama",
         "Baldwin",
         "1",
         "3",
         "2017-03-04",
         "49",
         "Good",
         "Ozone",
         "01-003-0010",
         "1"
        ],
        [
         "22",
         "Alabama",
         "Baldwin",
         "1",
         "3",
         "2017-03-05",
         "54",
         "Moderate",
         "PM2.5",
         "01-003-0010",
         "1"
        ],
        [
         "23",
         "Alabama",
         "Baldwin",
         "1",
         "3",
         "2017-03-06",
         "45",
         "Good",
         "Ozone",
         "01-003-0010",
         "1"
        ],
        [
         "24",
         "Alabama",
         "Baldwin",
         "1",
         "3",
         "2017-03-07",
         "47",
         "Good",
         "Ozone",
         "01-003-0010",
         "1"
        ],
        [
         "25",
         "Alabama",
         "Baldwin",
         "1",
         "3",
         "2017-03-08",
         "44",
         "Good",
         "Ozone",
         "01-003-0010",
         "1"
        ],
        [
         "26",
         "Alabama",
         "Baldwin",
         "1",
         "3",
         "2017-03-09",
         "44",
         "Good",
         "Ozone",
         "01-003-0010",
         "1"
        ],
        [
         "27",
         "Alabama",
         "Baldwin",
         "1",
         "3",
         "2017-03-10",
         "45",
         "Good",
         "Ozone",
         "01-003-0010",
         "1"
        ],
        [
         "28",
         "Alabama",
         "Baldwin",
         "1",
         "3",
         "2017-03-11",
         "51",
         "Moderate",
         "PM2.5",
         "01-003-0010",
         "1"
        ],
        [
         "29",
         "Alabama",
         "Baldwin",
         "1",
         "3",
         "2017-03-12",
         "32",
         "Good",
         "Ozone",
         "01-003-0010",
         "1"
        ],
        [
         "30",
         "Alabama",
         "Baldwin",
         "1",
         "3",
         "2017-03-13",
         "31",
         "Good",
         "Ozone",
         "01-003-0010",
         "1"
        ],
        [
         "31",
         "Alabama",
         "Baldwin",
         "1",
         "3",
         "2017-03-14",
         "32",
         "Good",
         "PM2.5",
         "01-003-0010",
         "1"
        ],
        [
         "32",
         "Alabama",
         "Baldwin",
         "1",
         "3",
         "2017-03-15",
         "44",
         "Good",
         "Ozone",
         "01-003-0010",
         "1"
        ],
        [
         "33",
         "Alabama",
         "Baldwin",
         "1",
         "3",
         "2017-03-17",
         "44",
         "Good",
         "PM2.5",
         "01-003-0010",
         "1"
        ],
        [
         "34",
         "Alabama",
         "Baldwin",
         "1",
         "3",
         "2017-03-18",
         "49",
         "Good",
         "Ozone",
         "01-003-0010",
         "1"
        ],
        [
         "35",
         "Alabama",
         "Baldwin",
         "1",
         "3",
         "2017-03-19",
         "51",
         "Moderate",
         "Ozone",
         "01-003-0010",
         "1"
        ],
        [
         "36",
         "Alabama",
         "Baldwin",
         "1",
         "3",
         "2017-03-20",
         "56",
         "Moderate",
         "PM2.5",
         "01-003-0010",
         "1"
        ],
        [
         "37",
         "Alabama",
         "Baldwin",
         "1",
         "3",
         "2017-03-21",
         "46",
         "Good",
         "Ozone",
         "01-003-0010",
         "1"
        ],
        [
         "38",
         "Alabama",
         "Baldwin",
         "1",
         "3",
         "2017-03-22",
         "47",
         "Good",
         "Ozone",
         "01-003-0010",
         "1"
        ],
        [
         "39",
         "Alabama",
         "Baldwin",
         "1",
         "3",
         "2017-03-23",
         "63",
         "Moderate",
         "PM2.5",
         "01-003-0010",
         "1"
        ],
        [
         "40",
         "Alabama",
         "Baldwin",
         "1",
         "3",
         "2017-03-24",
         "44",
         "Good",
         "Ozone",
         "01-003-0010",
         "1"
        ],
        [
         "41",
         "Alabama",
         "Baldwin",
         "1",
         "3",
         "2017-03-25",
         "43",
         "Good",
         "Ozone",
         "01-003-0010",
         "1"
        ],
        [
         "42",
         "Alabama",
         "Baldwin",
         "1",
         "3",
         "2017-03-26",
         "41",
         "Good",
         "Ozone",
         "01-003-0010",
         "1"
        ],
        [
         "43",
         "Alabama",
         "Baldwin",
         "1",
         "3",
         "2017-03-27",
         "35",
         "Good",
         "Ozone",
         "01-003-0010",
         "1"
        ],
        [
         "44",
         "Alabama",
         "Baldwin",
         "1",
         "3",
         "2017-03-28",
         "33",
         "Good",
         "Ozone",
         "01-003-0010",
         "1"
        ],
        [
         "45",
         "Alabama",
         "Baldwin",
         "1",
         "3",
         "2017-03-29",
         "34",
         "Good",
         "Ozone",
         "01-003-0010",
         "1"
        ],
        [
         "46",
         "Alabama",
         "Baldwin",
         "1",
         "3",
         "2017-03-30",
         "36",
         "Good",
         "Ozone",
         "01-003-0010",
         "1"
        ],
        [
         "47",
         "Alabama",
         "Baldwin",
         "1",
         "3",
         "2017-03-31",
         "58",
         "Moderate",
         "Ozone",
         "01-003-0010",
         "1"
        ],
        [
         "48",
         "Alabama",
         "Baldwin",
         "1",
         "3",
         "2017-04-01",
         "51",
         "Moderate",
         "Ozone",
         "01-003-0010",
         "1"
        ],
        [
         "49",
         "Alabama",
         "Baldwin",
         "1",
         "3",
         "2017-04-02",
         "40",
         "Good",
         "Ozone",
         "01-003-0010",
         "1"
        ]
       ],
       "shape": {
        "columns": 10,
        "rows": 654342
       }
      },
      "text/html": [
       "<div>\n",
       "<style scoped>\n",
       "    .dataframe tbody tr th:only-of-type {\n",
       "        vertical-align: middle;\n",
       "    }\n",
       "\n",
       "    .dataframe tbody tr th {\n",
       "        vertical-align: top;\n",
       "    }\n",
       "\n",
       "    .dataframe thead th {\n",
       "        text-align: right;\n",
       "    }\n",
       "</style>\n",
       "<table border=\"1\" class=\"dataframe\">\n",
       "  <thead>\n",
       "    <tr style=\"text-align: right;\">\n",
       "      <th></th>\n",
       "      <th>State Name</th>\n",
       "      <th>county Name</th>\n",
       "      <th>State Code</th>\n",
       "      <th>County Code</th>\n",
       "      <th>Date</th>\n",
       "      <th>AQI</th>\n",
       "      <th>Category</th>\n",
       "      <th>Defining Parameter</th>\n",
       "      <th>Defining Site</th>\n",
       "      <th>Number of Sites Reporting</th>\n",
       "    </tr>\n",
       "  </thead>\n",
       "  <tbody>\n",
       "    <tr>\n",
       "      <th>0</th>\n",
       "      <td>Alabama</td>\n",
       "      <td>Baldwin</td>\n",
       "      <td>1</td>\n",
       "      <td>3</td>\n",
       "      <td>2017-01-01</td>\n",
       "      <td>28</td>\n",
       "      <td>Good</td>\n",
       "      <td>PM2.5</td>\n",
       "      <td>01-003-0010</td>\n",
       "      <td>1</td>\n",
       "    </tr>\n",
       "    <tr>\n",
       "      <th>1</th>\n",
       "      <td>Alabama</td>\n",
       "      <td>Baldwin</td>\n",
       "      <td>1</td>\n",
       "      <td>3</td>\n",
       "      <td>2017-01-04</td>\n",
       "      <td>29</td>\n",
       "      <td>Good</td>\n",
       "      <td>PM2.5</td>\n",
       "      <td>01-003-0010</td>\n",
       "      <td>1</td>\n",
       "    </tr>\n",
       "    <tr>\n",
       "      <th>2</th>\n",
       "      <td>Alabama</td>\n",
       "      <td>Baldwin</td>\n",
       "      <td>1</td>\n",
       "      <td>3</td>\n",
       "      <td>2017-01-10</td>\n",
       "      <td>25</td>\n",
       "      <td>Good</td>\n",
       "      <td>PM2.5</td>\n",
       "      <td>01-003-0010</td>\n",
       "      <td>1</td>\n",
       "    </tr>\n",
       "    <tr>\n",
       "      <th>3</th>\n",
       "      <td>Alabama</td>\n",
       "      <td>Baldwin</td>\n",
       "      <td>1</td>\n",
       "      <td>3</td>\n",
       "      <td>2017-01-13</td>\n",
       "      <td>40</td>\n",
       "      <td>Good</td>\n",
       "      <td>PM2.5</td>\n",
       "      <td>01-003-0010</td>\n",
       "      <td>1</td>\n",
       "    </tr>\n",
       "    <tr>\n",
       "      <th>4</th>\n",
       "      <td>Alabama</td>\n",
       "      <td>Baldwin</td>\n",
       "      <td>1</td>\n",
       "      <td>3</td>\n",
       "      <td>2017-01-16</td>\n",
       "      <td>22</td>\n",
       "      <td>Good</td>\n",
       "      <td>PM2.5</td>\n",
       "      <td>01-003-0010</td>\n",
       "      <td>1</td>\n",
       "    </tr>\n",
       "    <tr>\n",
       "      <th>...</th>\n",
       "      <td>...</td>\n",
       "      <td>...</td>\n",
       "      <td>...</td>\n",
       "      <td>...</td>\n",
       "      <td>...</td>\n",
       "      <td>...</td>\n",
       "      <td>...</td>\n",
       "      <td>...</td>\n",
       "      <td>...</td>\n",
       "      <td>...</td>\n",
       "    </tr>\n",
       "    <tr>\n",
       "      <th>327536</th>\n",
       "      <td>Wyoming</td>\n",
       "      <td>Weston</td>\n",
       "      <td>56</td>\n",
       "      <td>45</td>\n",
       "      <td>2018-12-27</td>\n",
       "      <td>36</td>\n",
       "      <td>Good</td>\n",
       "      <td>Ozone</td>\n",
       "      <td>56-045-0003</td>\n",
       "      <td>1</td>\n",
       "    </tr>\n",
       "    <tr>\n",
       "      <th>327537</th>\n",
       "      <td>Wyoming</td>\n",
       "      <td>Weston</td>\n",
       "      <td>56</td>\n",
       "      <td>45</td>\n",
       "      <td>2018-12-28</td>\n",
       "      <td>35</td>\n",
       "      <td>Good</td>\n",
       "      <td>Ozone</td>\n",
       "      <td>56-045-0003</td>\n",
       "      <td>1</td>\n",
       "    </tr>\n",
       "    <tr>\n",
       "      <th>327538</th>\n",
       "      <td>Wyoming</td>\n",
       "      <td>Weston</td>\n",
       "      <td>56</td>\n",
       "      <td>45</td>\n",
       "      <td>2018-12-29</td>\n",
       "      <td>35</td>\n",
       "      <td>Good</td>\n",
       "      <td>Ozone</td>\n",
       "      <td>56-045-0003</td>\n",
       "      <td>1</td>\n",
       "    </tr>\n",
       "    <tr>\n",
       "      <th>327539</th>\n",
       "      <td>Wyoming</td>\n",
       "      <td>Weston</td>\n",
       "      <td>56</td>\n",
       "      <td>45</td>\n",
       "      <td>2018-12-30</td>\n",
       "      <td>31</td>\n",
       "      <td>Good</td>\n",
       "      <td>Ozone</td>\n",
       "      <td>56-045-0003</td>\n",
       "      <td>1</td>\n",
       "    </tr>\n",
       "    <tr>\n",
       "      <th>327540</th>\n",
       "      <td>Wyoming</td>\n",
       "      <td>Weston</td>\n",
       "      <td>56</td>\n",
       "      <td>45</td>\n",
       "      <td>2018-12-31</td>\n",
       "      <td>35</td>\n",
       "      <td>Good</td>\n",
       "      <td>Ozone</td>\n",
       "      <td>56-045-0003</td>\n",
       "      <td>1</td>\n",
       "    </tr>\n",
       "  </tbody>\n",
       "</table>\n",
       "<p>654342 rows × 10 columns</p>\n",
       "</div>"
      ],
      "text/plain": [
       "       State Name county Name  State Code  County Code        Date  AQI  \\\n",
       "0         Alabama     Baldwin           1            3  2017-01-01   28   \n",
       "1         Alabama     Baldwin           1            3  2017-01-04   29   \n",
       "2         Alabama     Baldwin           1            3  2017-01-10   25   \n",
       "3         Alabama     Baldwin           1            3  2017-01-13   40   \n",
       "4         Alabama     Baldwin           1            3  2017-01-16   22   \n",
       "...           ...         ...         ...          ...         ...  ...   \n",
       "327536    Wyoming      Weston          56           45  2018-12-27   36   \n",
       "327537    Wyoming      Weston          56           45  2018-12-28   35   \n",
       "327538    Wyoming      Weston          56           45  2018-12-29   35   \n",
       "327539    Wyoming      Weston          56           45  2018-12-30   31   \n",
       "327540    Wyoming      Weston          56           45  2018-12-31   35   \n",
       "\n",
       "       Category Defining Parameter Defining Site  Number of Sites Reporting  \n",
       "0          Good              PM2.5   01-003-0010                          1  \n",
       "1          Good              PM2.5   01-003-0010                          1  \n",
       "2          Good              PM2.5   01-003-0010                          1  \n",
       "3          Good              PM2.5   01-003-0010                          1  \n",
       "4          Good              PM2.5   01-003-0010                          1  \n",
       "...         ...                ...           ...                        ...  \n",
       "327536     Good              Ozone   56-045-0003                          1  \n",
       "327537     Good              Ozone   56-045-0003                          1  \n",
       "327538     Good              Ozone   56-045-0003                          1  \n",
       "327539     Good              Ozone   56-045-0003                          1  \n",
       "327540     Good              Ozone   56-045-0003                          1  \n",
       "\n",
       "[654342 rows x 10 columns]"
      ]
     },
     "execution_count": 23,
     "metadata": {},
     "output_type": "execute_result"
    }
   ],
   "source": [
    "aqi = pd.concat([aqi_17, aqi_18])\n",
    "aqi"
   ]
  },
  {
   "cell_type": "code",
   "execution_count": 24,
   "metadata": {
    "deletable": false,
    "editable": false
   },
   "outputs": [
    {
     "data": {
      "text/html": [
       "<p><strong><pre style='display: inline;'>q4</pre></strong> passed! 🎉</p>"
      ],
      "text/plain": [
       "q4 results: All test cases passed!"
      ]
     },
     "execution_count": 24,
     "metadata": {},
     "output_type": "execute_result"
    }
   ],
   "source": [
    "grader.check(\"q4\")"
   ]
  },
  {
   "cell_type": "markdown",
   "metadata": {
    "deletable": false,
    "editable": false
   },
   "source": [
    "<!-- BEGIN QUESTION -->\n",
    "\n",
    "## 5\n",
    "\n",
    "Run the following code cell and use the next markdown cell to give a line by line explanation of the code below the comment \"#Simplify column names\". You might need to look up the `pandas` documentation."
   ]
  },
  {
   "cell_type": "code",
   "execution_count": 25,
   "metadata": {
    "deletable": false,
    "editable": false,
    "tags": []
   },
   "outputs": [
    {
     "name": "stdout",
     "output_type": "stream",
     "text": [
      "Index(['State Name', 'county Name', 'State Code', 'County Code', 'Date', 'AQI',\n",
      "       'Category', 'Defining Parameter', 'Defining Site',\n",
      "       'Number of Sites Reporting'],\n",
      "      dtype='object') \n",
      "\n",
      "Index(['state_name', 'county_name', 'state_code', 'county_code', 'date', 'aqi',\n",
      "       'category', 'defining_parameter', 'defining_site',\n",
      "       'number_of_sites_reporting'],\n",
      "      dtype='object') \n",
      "\n"
     ]
    }
   ],
   "source": [
    "# Initial column names: notice caps and spaces (difficult to work with!)\n",
    "print(aqi.columns, '\\n')\n",
    "\n",
    "# Simplify column names\n",
    "aqi.columns = (aqi.columns\n",
    "                  .str.lower()\n",
    "                  .str.replace(' ','_')\n",
    "                )\n",
    "print(aqi.columns, '\\n')"
   ]
  },
  {
   "cell_type": "markdown",
   "metadata": {},
   "source": [
    "a line by line explanation of the code below the comment \"#Simplify column names\"."
   ]
  },
  {
   "cell_type": "markdown",
   "metadata": {
    "deletable": false,
    "editable": false
   },
   "source": [
    "<!-- END QUESTION -->\n",
    "\n",
    "## 6\n",
    "In the next code cell:\n",
    "\n",
    "a. Select only data from `Santa Barbara` county and store it in a new variable `aqi_sb`.\n",
    "\n",
    "b. Remove the `state_name`, `county_name`, `state_code` and `county_code` columns from `aqi_sb`.\n",
    "\n",
    "Your dataframe should have the following columns in this order: `date`, `aqi`, `category`, `defining_parameter`, `defining_stie`, `number_of_sites_reporting`. "
   ]
  },
  {
   "cell_type": "code",
   "execution_count": 26,
   "metadata": {
    "tags": []
   },
   "outputs": [
    {
     "data": {
      "application/vnd.microsoft.datawrangler.viewer.v0+json": {
       "columns": [
        {
         "name": "index",
         "rawType": "int64",
         "type": "integer"
        },
        {
         "name": "county_code",
         "rawType": "int64",
         "type": "integer"
        },
        {
         "name": "date",
         "rawType": "object",
         "type": "string"
        },
        {
         "name": "aqi",
         "rawType": "int64",
         "type": "integer"
        },
        {
         "name": "category",
         "rawType": "object",
         "type": "string"
        },
        {
         "name": "defining_parameter",
         "rawType": "object",
         "type": "string"
        },
        {
         "name": "defining_site",
         "rawType": "object",
         "type": "string"
        },
        {
         "name": "number_of_sites_reporting",
         "rawType": "int64",
         "type": "integer"
        }
       ],
       "ref": "e4beefa4-75a0-48db-8502-8756c4f01053",
       "rows": [
        [
         "28648",
         "83",
         "2017-01-01",
         "39",
         "Good",
         "Ozone",
         "06-083-4003",
         "12"
        ],
        [
         "28649",
         "83",
         "2017-01-02",
         "39",
         "Good",
         "PM2.5",
         "06-083-2011",
         "11"
        ],
        [
         "28650",
         "83",
         "2017-01-03",
         "71",
         "Moderate",
         "PM10",
         "06-083-4003",
         "12"
        ],
        [
         "28651",
         "83",
         "2017-01-04",
         "34",
         "Good",
         "Ozone",
         "06-083-4003",
         "13"
        ],
        [
         "28652",
         "83",
         "2017-01-05",
         "37",
         "Good",
         "Ozone",
         "06-083-4003",
         "12"
        ],
        [
         "28653",
         "83",
         "2017-01-06",
         "41",
         "Good",
         "PM2.5",
         "06-083-2011",
         "12"
        ],
        [
         "28654",
         "83",
         "2017-01-07",
         "40",
         "Good",
         "Ozone",
         "06-083-4003",
         "13"
        ],
        [
         "28655",
         "83",
         "2017-01-08",
         "264",
         "Very Unhealthy",
         "PM10",
         "06-083-4003",
         "12"
        ],
        [
         "28656",
         "83",
         "2017-01-09",
         "35",
         "Good",
         "Ozone",
         "06-083-4003",
         "12"
        ],
        [
         "28657",
         "83",
         "2017-01-10",
         "35",
         "Good",
         "Ozone",
         "06-083-1025",
         "13"
        ],
        [
         "28658",
         "83",
         "2017-01-11",
         "44",
         "Good",
         "PM2.5",
         "06-083-1008",
         "12"
        ],
        [
         "28659",
         "83",
         "2017-01-12",
         "40",
         "Good",
         "Ozone",
         "06-083-1025",
         "12"
        ],
        [
         "28660",
         "83",
         "2017-01-13",
         "38",
         "Good",
         "Ozone",
         "06-083-1025",
         "12"
        ],
        [
         "28661",
         "83",
         "2017-01-14",
         "37",
         "Good",
         "Ozone",
         "06-083-1025",
         "11"
        ],
        [
         "28662",
         "83",
         "2017-01-15",
         "36",
         "Good",
         "Ozone",
         "06-083-1025",
         "11"
        ],
        [
         "28663",
         "83",
         "2017-01-16",
         "38",
         "Good",
         "PM2.5",
         "06-083-2011",
         "12"
        ],
        [
         "28664",
         "83",
         "2017-01-17",
         "42",
         "Good",
         "PM2.5",
         "06-083-2011",
         "12"
        ],
        [
         "28665",
         "83",
         "2017-01-18",
         "46",
         "Good",
         "PM2.5",
         "06-083-2011",
         "12"
        ],
        [
         "28666",
         "83",
         "2017-01-19",
         "40",
         "Good",
         "Ozone",
         "06-083-4003",
         "13"
        ],
        [
         "28667",
         "83",
         "2017-01-20",
         "41",
         "Good",
         "Ozone",
         "06-083-1025",
         "12"
        ],
        [
         "28668",
         "83",
         "2017-01-21",
         "45",
         "Good",
         "PM10",
         "06-083-4003",
         "12"
        ],
        [
         "28669",
         "83",
         "2017-01-22",
         "41",
         "Good",
         "Ozone",
         "06-083-4003",
         "13"
        ],
        [
         "28670",
         "83",
         "2017-01-23",
         "41",
         "Good",
         "Ozone",
         "06-083-4003",
         "12"
        ],
        [
         "28671",
         "83",
         "2017-01-24",
         "39",
         "Good",
         "Ozone",
         "06-083-1025",
         "12"
        ],
        [
         "28672",
         "83",
         "2017-01-25",
         "41",
         "Good",
         "Ozone",
         "06-083-1021",
         "12"
        ],
        [
         "28673",
         "83",
         "2017-01-26",
         "42",
         "Good",
         "Ozone",
         "06-083-2011",
         "12"
        ],
        [
         "28674",
         "83",
         "2017-01-27",
         "51",
         "Moderate",
         "PM2.5",
         "06-083-1008",
         "12"
        ],
        [
         "28675",
         "83",
         "2017-01-28",
         "43",
         "Good",
         "Ozone",
         "06-083-1021",
         "13"
        ],
        [
         "28676",
         "83",
         "2017-01-29",
         "44",
         "Good",
         "Ozone",
         "06-083-1021",
         "12"
        ],
        [
         "28677",
         "83",
         "2017-01-30",
         "43",
         "Good",
         "Ozone",
         "06-083-1013",
         "11"
        ],
        [
         "28678",
         "83",
         "2017-01-31",
         "46",
         "Good",
         "Ozone",
         "06-083-1013",
         "13"
        ],
        [
         "28679",
         "83",
         "2017-02-01",
         "55",
         "Moderate",
         "PM2.5",
         "06-083-2011",
         "12"
        ],
        [
         "28680",
         "83",
         "2017-02-02",
         "127",
         "Unhealthy for Sensitive Groups",
         "PM10",
         "06-083-4003",
         "12"
        ],
        [
         "28681",
         "83",
         "2017-02-03",
         "32",
         "Good",
         "Ozone",
         "06-083-4003",
         "13"
        ],
        [
         "28682",
         "83",
         "2017-02-04",
         "36",
         "Good",
         "Ozone",
         "06-083-4003",
         "12"
        ],
        [
         "28683",
         "83",
         "2017-02-05",
         "36",
         "Good",
         "Ozone",
         "06-083-4003",
         "12"
        ],
        [
         "28684",
         "83",
         "2017-02-06",
         "38",
         "Good",
         "Ozone",
         "06-083-1021",
         "13"
        ],
        [
         "28685",
         "83",
         "2017-02-07",
         "27",
         "Good",
         "Ozone",
         "06-083-1025",
         "12"
        ],
        [
         "28686",
         "83",
         "2017-02-08",
         "20",
         "Good",
         "Ozone",
         "06-083-2011",
         "12"
        ],
        [
         "28687",
         "83",
         "2017-02-09",
         "31",
         "Good",
         "Ozone",
         "06-083-4003",
         "12"
        ],
        [
         "28688",
         "83",
         "2017-02-10",
         "40",
         "Good",
         "Ozone",
         "06-083-4003",
         "12"
        ],
        [
         "28689",
         "83",
         "2017-02-11",
         "39",
         "Good",
         "Ozone",
         "06-083-4003",
         "12"
        ],
        [
         "28690",
         "83",
         "2017-02-12",
         "34",
         "Good",
         "Ozone",
         "06-083-1025",
         "13"
        ],
        [
         "28691",
         "83",
         "2017-02-13",
         "33",
         "Good",
         "Ozone",
         "06-083-1025",
         "12"
        ],
        [
         "28692",
         "83",
         "2017-02-14",
         "47",
         "Good",
         "PM2.5",
         "06-083-2011",
         "12"
        ],
        [
         "28693",
         "83",
         "2017-02-15",
         "51",
         "Moderate",
         "PM2.5",
         "06-083-2011",
         "13"
        ],
        [
         "28694",
         "83",
         "2017-02-16",
         "40",
         "Good",
         "Ozone",
         "06-083-4003",
         "12"
        ],
        [
         "28695",
         "83",
         "2017-02-17",
         "47",
         "Good",
         "Ozone",
         "06-083-1021",
         "12"
        ],
        [
         "28696",
         "83",
         "2017-02-18",
         "44",
         "Good",
         "Ozone",
         "06-083-1025",
         "13"
        ],
        [
         "28697",
         "83",
         "2017-02-19",
         "41",
         "Good",
         "Ozone",
         "06-083-4003",
         "12"
        ]
       ],
       "shape": {
        "columns": 7,
        "rows": 730
       }
      },
      "text/html": [
       "<div>\n",
       "<style scoped>\n",
       "    .dataframe tbody tr th:only-of-type {\n",
       "        vertical-align: middle;\n",
       "    }\n",
       "\n",
       "    .dataframe tbody tr th {\n",
       "        vertical-align: top;\n",
       "    }\n",
       "\n",
       "    .dataframe thead th {\n",
       "        text-align: right;\n",
       "    }\n",
       "</style>\n",
       "<table border=\"1\" class=\"dataframe\">\n",
       "  <thead>\n",
       "    <tr style=\"text-align: right;\">\n",
       "      <th></th>\n",
       "      <th>county_code</th>\n",
       "      <th>date</th>\n",
       "      <th>aqi</th>\n",
       "      <th>category</th>\n",
       "      <th>defining_parameter</th>\n",
       "      <th>defining_site</th>\n",
       "      <th>number_of_sites_reporting</th>\n",
       "    </tr>\n",
       "  </thead>\n",
       "  <tbody>\n",
       "    <tr>\n",
       "      <th>28648</th>\n",
       "      <td>83</td>\n",
       "      <td>2017-01-01</td>\n",
       "      <td>39</td>\n",
       "      <td>Good</td>\n",
       "      <td>Ozone</td>\n",
       "      <td>06-083-4003</td>\n",
       "      <td>12</td>\n",
       "    </tr>\n",
       "    <tr>\n",
       "      <th>28649</th>\n",
       "      <td>83</td>\n",
       "      <td>2017-01-02</td>\n",
       "      <td>39</td>\n",
       "      <td>Good</td>\n",
       "      <td>PM2.5</td>\n",
       "      <td>06-083-2011</td>\n",
       "      <td>11</td>\n",
       "    </tr>\n",
       "    <tr>\n",
       "      <th>28650</th>\n",
       "      <td>83</td>\n",
       "      <td>2017-01-03</td>\n",
       "      <td>71</td>\n",
       "      <td>Moderate</td>\n",
       "      <td>PM10</td>\n",
       "      <td>06-083-4003</td>\n",
       "      <td>12</td>\n",
       "    </tr>\n",
       "    <tr>\n",
       "      <th>28651</th>\n",
       "      <td>83</td>\n",
       "      <td>2017-01-04</td>\n",
       "      <td>34</td>\n",
       "      <td>Good</td>\n",
       "      <td>Ozone</td>\n",
       "      <td>06-083-4003</td>\n",
       "      <td>13</td>\n",
       "    </tr>\n",
       "    <tr>\n",
       "      <th>28652</th>\n",
       "      <td>83</td>\n",
       "      <td>2017-01-05</td>\n",
       "      <td>37</td>\n",
       "      <td>Good</td>\n",
       "      <td>Ozone</td>\n",
       "      <td>06-083-4003</td>\n",
       "      <td>12</td>\n",
       "    </tr>\n",
       "    <tr>\n",
       "      <th>...</th>\n",
       "      <td>...</td>\n",
       "      <td>...</td>\n",
       "      <td>...</td>\n",
       "      <td>...</td>\n",
       "      <td>...</td>\n",
       "      <td>...</td>\n",
       "      <td>...</td>\n",
       "    </tr>\n",
       "    <tr>\n",
       "      <th>29128</th>\n",
       "      <td>83</td>\n",
       "      <td>2018-12-27</td>\n",
       "      <td>37</td>\n",
       "      <td>Good</td>\n",
       "      <td>Ozone</td>\n",
       "      <td>06-083-1025</td>\n",
       "      <td>11</td>\n",
       "    </tr>\n",
       "    <tr>\n",
       "      <th>29129</th>\n",
       "      <td>83</td>\n",
       "      <td>2018-12-28</td>\n",
       "      <td>39</td>\n",
       "      <td>Good</td>\n",
       "      <td>Ozone</td>\n",
       "      <td>06-083-1021</td>\n",
       "      <td>12</td>\n",
       "    </tr>\n",
       "    <tr>\n",
       "      <th>29130</th>\n",
       "      <td>83</td>\n",
       "      <td>2018-12-29</td>\n",
       "      <td>39</td>\n",
       "      <td>Good</td>\n",
       "      <td>Ozone</td>\n",
       "      <td>06-083-1021</td>\n",
       "      <td>12</td>\n",
       "    </tr>\n",
       "    <tr>\n",
       "      <th>29131</th>\n",
       "      <td>83</td>\n",
       "      <td>2018-12-30</td>\n",
       "      <td>41</td>\n",
       "      <td>Good</td>\n",
       "      <td>PM2.5</td>\n",
       "      <td>06-083-1008</td>\n",
       "      <td>12</td>\n",
       "    </tr>\n",
       "    <tr>\n",
       "      <th>29132</th>\n",
       "      <td>83</td>\n",
       "      <td>2018-12-31</td>\n",
       "      <td>38</td>\n",
       "      <td>Good</td>\n",
       "      <td>Ozone</td>\n",
       "      <td>06-083-2004</td>\n",
       "      <td>12</td>\n",
       "    </tr>\n",
       "  </tbody>\n",
       "</table>\n",
       "<p>730 rows × 7 columns</p>\n",
       "</div>"
      ],
      "text/plain": [
       "       county_code        date  aqi  category defining_parameter  \\\n",
       "28648           83  2017-01-01   39      Good              Ozone   \n",
       "28649           83  2017-01-02   39      Good              PM2.5   \n",
       "28650           83  2017-01-03   71  Moderate               PM10   \n",
       "28651           83  2017-01-04   34      Good              Ozone   \n",
       "28652           83  2017-01-05   37      Good              Ozone   \n",
       "...            ...         ...  ...       ...                ...   \n",
       "29128           83  2018-12-27   37      Good              Ozone   \n",
       "29129           83  2018-12-28   39      Good              Ozone   \n",
       "29130           83  2018-12-29   39      Good              Ozone   \n",
       "29131           83  2018-12-30   41      Good              PM2.5   \n",
       "29132           83  2018-12-31   38      Good              Ozone   \n",
       "\n",
       "      defining_site  number_of_sites_reporting  \n",
       "28648   06-083-4003                         12  \n",
       "28649   06-083-2011                         11  \n",
       "28650   06-083-4003                         12  \n",
       "28651   06-083-4003                         13  \n",
       "28652   06-083-4003                         12  \n",
       "...             ...                        ...  \n",
       "29128   06-083-1025                         11  \n",
       "29129   06-083-1021                         12  \n",
       "29130   06-083-1021                         12  \n",
       "29131   06-083-1008                         12  \n",
       "29132   06-083-2004                         12  \n",
       "\n",
       "[730 rows x 7 columns]"
      ]
     },
     "execution_count": 26,
     "metadata": {},
     "output_type": "execute_result"
    }
   ],
   "source": [
    "aqi_sb = aqi[aqi['county_name'] == 'Santa Barbara']\n",
    "aqi_sb = aqi_sb.drop(columns = ['state_name', 'county_name', 'state_code'])\n",
    "aqi_sb"
   ]
  },
  {
   "cell_type": "code",
   "execution_count": 27,
   "metadata": {
    "deletable": false,
    "editable": false
   },
   "outputs": [
    {
     "data": {
      "text/html": [
       "<p><strong><pre style='display: inline;'>q6a</pre></strong> passed! 🎉</p>"
      ],
      "text/plain": [
       "q6a results: All test cases passed!"
      ]
     },
     "execution_count": 27,
     "metadata": {},
     "output_type": "execute_result"
    }
   ],
   "source": [
    "grader.check(\"q6a\")"
   ]
  },
  {
   "cell_type": "markdown",
   "metadata": {
    "deletable": false,
    "editable": false
   },
   "source": [
    " \n",
    "c. What is the data type of the `date` column? Write your answer in the markdown cell below. "
   ]
  },
  {
   "cell_type": "markdown",
   "metadata": {
    "deletable": false,
    "editable": false,
    "tags": []
   },
   "source": [
    "*Your answer here.*"
   ]
  },
  {
   "cell_type": "code",
   "execution_count": 28,
   "metadata": {
    "tags": []
   },
   "outputs": [
    {
     "data": {
      "application/vnd.microsoft.datawrangler.viewer.v0+json": {
       "columns": [
        {
         "name": "index",
         "rawType": "object",
         "type": "string"
        },
        {
         "name": "0",
         "rawType": "object",
         "type": "unknown"
        }
       ],
       "ref": "e90b51d5-79a2-4b5e-857c-a65d61a00d04",
       "rows": [
        [
         "state_name",
         "object"
        ],
        [
         "county_name",
         "object"
        ],
        [
         "state_code",
         "int64"
        ],
        [
         "county_code",
         "int64"
        ],
        [
         "date",
         "object"
        ],
        [
         "aqi",
         "int64"
        ],
        [
         "category",
         "object"
        ],
        [
         "defining_parameter",
         "object"
        ],
        [
         "defining_site",
         "object"
        ],
        [
         "number_of_sites_reporting",
         "int64"
        ]
       ],
       "shape": {
        "columns": 1,
        "rows": 10
       }
      },
      "text/plain": [
       "state_name                   object\n",
       "county_name                  object\n",
       "state_code                    int64\n",
       "county_code                   int64\n",
       "date                         object\n",
       "aqi                           int64\n",
       "category                     object\n",
       "defining_parameter           object\n",
       "defining_site                object\n",
       "number_of_sites_reporting     int64\n",
       "dtype: object"
      ]
     },
     "execution_count": 28,
     "metadata": {},
     "output_type": "execute_result"
    }
   ],
   "source": [
    "aqi.dtypes\n"
   ]
  },
  {
   "cell_type": "markdown",
   "metadata": {
    "deletable": false,
    "editable": false
   },
   "source": [
    "<!-- BEGIN QUESTION -->\n",
    "\n",
    "## 7\n",
    "In the following cell:\n",
    "1. Update the date column of `aqi_sb` to be a `pandas.datetime` object.\n",
    "2. Update the index of `aqi_sb` to be the `date` column."
   ]
  },
  {
   "cell_type": "code",
   "execution_count": 31,
   "metadata": {
    "editable": true,
    "slideshow": {
     "slide_type": ""
    },
    "tags": [
     "remove-cell"
    ]
   },
   "outputs": [
    {
     "data": {
      "application/vnd.microsoft.datawrangler.viewer.v0+json": {
       "columns": [
        {
         "name": "date",
         "rawType": "datetime64[ns]",
         "type": "datetime"
        },
        {
         "name": "county_code",
         "rawType": "int64",
         "type": "integer"
        },
        {
         "name": "aqi",
         "rawType": "int64",
         "type": "integer"
        },
        {
         "name": "category",
         "rawType": "object",
         "type": "string"
        },
        {
         "name": "defining_parameter",
         "rawType": "object",
         "type": "string"
        },
        {
         "name": "defining_site",
         "rawType": "object",
         "type": "string"
        },
        {
         "name": "number_of_sites_reporting",
         "rawType": "int64",
         "type": "integer"
        }
       ],
       "ref": "8db29573-88dd-420d-95cb-9d8934889d2b",
       "rows": [
        [
         "2017-01-01 00:00:00",
         "83",
         "39",
         "Good",
         "Ozone",
         "06-083-4003",
         "12"
        ],
        [
         "2017-01-02 00:00:00",
         "83",
         "39",
         "Good",
         "PM2.5",
         "06-083-2011",
         "11"
        ],
        [
         "2017-01-03 00:00:00",
         "83",
         "71",
         "Moderate",
         "PM10",
         "06-083-4003",
         "12"
        ],
        [
         "2017-01-04 00:00:00",
         "83",
         "34",
         "Good",
         "Ozone",
         "06-083-4003",
         "13"
        ],
        [
         "2017-01-05 00:00:00",
         "83",
         "37",
         "Good",
         "Ozone",
         "06-083-4003",
         "12"
        ],
        [
         "2017-01-06 00:00:00",
         "83",
         "41",
         "Good",
         "PM2.5",
         "06-083-2011",
         "12"
        ],
        [
         "2017-01-07 00:00:00",
         "83",
         "40",
         "Good",
         "Ozone",
         "06-083-4003",
         "13"
        ],
        [
         "2017-01-08 00:00:00",
         "83",
         "264",
         "Very Unhealthy",
         "PM10",
         "06-083-4003",
         "12"
        ],
        [
         "2017-01-09 00:00:00",
         "83",
         "35",
         "Good",
         "Ozone",
         "06-083-4003",
         "12"
        ],
        [
         "2017-01-10 00:00:00",
         "83",
         "35",
         "Good",
         "Ozone",
         "06-083-1025",
         "13"
        ],
        [
         "2017-01-11 00:00:00",
         "83",
         "44",
         "Good",
         "PM2.5",
         "06-083-1008",
         "12"
        ],
        [
         "2017-01-12 00:00:00",
         "83",
         "40",
         "Good",
         "Ozone",
         "06-083-1025",
         "12"
        ],
        [
         "2017-01-13 00:00:00",
         "83",
         "38",
         "Good",
         "Ozone",
         "06-083-1025",
         "12"
        ],
        [
         "2017-01-14 00:00:00",
         "83",
         "37",
         "Good",
         "Ozone",
         "06-083-1025",
         "11"
        ],
        [
         "2017-01-15 00:00:00",
         "83",
         "36",
         "Good",
         "Ozone",
         "06-083-1025",
         "11"
        ],
        [
         "2017-01-16 00:00:00",
         "83",
         "38",
         "Good",
         "PM2.5",
         "06-083-2011",
         "12"
        ],
        [
         "2017-01-17 00:00:00",
         "83",
         "42",
         "Good",
         "PM2.5",
         "06-083-2011",
         "12"
        ],
        [
         "2017-01-18 00:00:00",
         "83",
         "46",
         "Good",
         "PM2.5",
         "06-083-2011",
         "12"
        ],
        [
         "2017-01-19 00:00:00",
         "83",
         "40",
         "Good",
         "Ozone",
         "06-083-4003",
         "13"
        ],
        [
         "2017-01-20 00:00:00",
         "83",
         "41",
         "Good",
         "Ozone",
         "06-083-1025",
         "12"
        ],
        [
         "2017-01-21 00:00:00",
         "83",
         "45",
         "Good",
         "PM10",
         "06-083-4003",
         "12"
        ],
        [
         "2017-01-22 00:00:00",
         "83",
         "41",
         "Good",
         "Ozone",
         "06-083-4003",
         "13"
        ],
        [
         "2017-01-23 00:00:00",
         "83",
         "41",
         "Good",
         "Ozone",
         "06-083-4003",
         "12"
        ],
        [
         "2017-01-24 00:00:00",
         "83",
         "39",
         "Good",
         "Ozone",
         "06-083-1025",
         "12"
        ],
        [
         "2017-01-25 00:00:00",
         "83",
         "41",
         "Good",
         "Ozone",
         "06-083-1021",
         "12"
        ],
        [
         "2017-01-26 00:00:00",
         "83",
         "42",
         "Good",
         "Ozone",
         "06-083-2011",
         "12"
        ],
        [
         "2017-01-27 00:00:00",
         "83",
         "51",
         "Moderate",
         "PM2.5",
         "06-083-1008",
         "12"
        ],
        [
         "2017-01-28 00:00:00",
         "83",
         "43",
         "Good",
         "Ozone",
         "06-083-1021",
         "13"
        ],
        [
         "2017-01-29 00:00:00",
         "83",
         "44",
         "Good",
         "Ozone",
         "06-083-1021",
         "12"
        ],
        [
         "2017-01-30 00:00:00",
         "83",
         "43",
         "Good",
         "Ozone",
         "06-083-1013",
         "11"
        ],
        [
         "2017-01-31 00:00:00",
         "83",
         "46",
         "Good",
         "Ozone",
         "06-083-1013",
         "13"
        ],
        [
         "2017-02-01 00:00:00",
         "83",
         "55",
         "Moderate",
         "PM2.5",
         "06-083-2011",
         "12"
        ],
        [
         "2017-02-02 00:00:00",
         "83",
         "127",
         "Unhealthy for Sensitive Groups",
         "PM10",
         "06-083-4003",
         "12"
        ],
        [
         "2017-02-03 00:00:00",
         "83",
         "32",
         "Good",
         "Ozone",
         "06-083-4003",
         "13"
        ],
        [
         "2017-02-04 00:00:00",
         "83",
         "36",
         "Good",
         "Ozone",
         "06-083-4003",
         "12"
        ],
        [
         "2017-02-05 00:00:00",
         "83",
         "36",
         "Good",
         "Ozone",
         "06-083-4003",
         "12"
        ],
        [
         "2017-02-06 00:00:00",
         "83",
         "38",
         "Good",
         "Ozone",
         "06-083-1021",
         "13"
        ],
        [
         "2017-02-07 00:00:00",
         "83",
         "27",
         "Good",
         "Ozone",
         "06-083-1025",
         "12"
        ],
        [
         "2017-02-08 00:00:00",
         "83",
         "20",
         "Good",
         "Ozone",
         "06-083-2011",
         "12"
        ],
        [
         "2017-02-09 00:00:00",
         "83",
         "31",
         "Good",
         "Ozone",
         "06-083-4003",
         "12"
        ],
        [
         "2017-02-10 00:00:00",
         "83",
         "40",
         "Good",
         "Ozone",
         "06-083-4003",
         "12"
        ],
        [
         "2017-02-11 00:00:00",
         "83",
         "39",
         "Good",
         "Ozone",
         "06-083-4003",
         "12"
        ],
        [
         "2017-02-12 00:00:00",
         "83",
         "34",
         "Good",
         "Ozone",
         "06-083-1025",
         "13"
        ],
        [
         "2017-02-13 00:00:00",
         "83",
         "33",
         "Good",
         "Ozone",
         "06-083-1025",
         "12"
        ],
        [
         "2017-02-14 00:00:00",
         "83",
         "47",
         "Good",
         "PM2.5",
         "06-083-2011",
         "12"
        ],
        [
         "2017-02-15 00:00:00",
         "83",
         "51",
         "Moderate",
         "PM2.5",
         "06-083-2011",
         "13"
        ],
        [
         "2017-02-16 00:00:00",
         "83",
         "40",
         "Good",
         "Ozone",
         "06-083-4003",
         "12"
        ],
        [
         "2017-02-17 00:00:00",
         "83",
         "47",
         "Good",
         "Ozone",
         "06-083-1021",
         "12"
        ],
        [
         "2017-02-18 00:00:00",
         "83",
         "44",
         "Good",
         "Ozone",
         "06-083-1025",
         "13"
        ],
        [
         "2017-02-19 00:00:00",
         "83",
         "41",
         "Good",
         "Ozone",
         "06-083-4003",
         "12"
        ]
       ],
       "shape": {
        "columns": 6,
        "rows": 730
       }
      },
      "text/html": [
       "<div>\n",
       "<style scoped>\n",
       "    .dataframe tbody tr th:only-of-type {\n",
       "        vertical-align: middle;\n",
       "    }\n",
       "\n",
       "    .dataframe tbody tr th {\n",
       "        vertical-align: top;\n",
       "    }\n",
       "\n",
       "    .dataframe thead th {\n",
       "        text-align: right;\n",
       "    }\n",
       "</style>\n",
       "<table border=\"1\" class=\"dataframe\">\n",
       "  <thead>\n",
       "    <tr style=\"text-align: right;\">\n",
       "      <th></th>\n",
       "      <th>county_code</th>\n",
       "      <th>aqi</th>\n",
       "      <th>category</th>\n",
       "      <th>defining_parameter</th>\n",
       "      <th>defining_site</th>\n",
       "      <th>number_of_sites_reporting</th>\n",
       "    </tr>\n",
       "    <tr>\n",
       "      <th>date</th>\n",
       "      <th></th>\n",
       "      <th></th>\n",
       "      <th></th>\n",
       "      <th></th>\n",
       "      <th></th>\n",
       "      <th></th>\n",
       "    </tr>\n",
       "  </thead>\n",
       "  <tbody>\n",
       "    <tr>\n",
       "      <th>2017-01-01</th>\n",
       "      <td>83</td>\n",
       "      <td>39</td>\n",
       "      <td>Good</td>\n",
       "      <td>Ozone</td>\n",
       "      <td>06-083-4003</td>\n",
       "      <td>12</td>\n",
       "    </tr>\n",
       "    <tr>\n",
       "      <th>2017-01-02</th>\n",
       "      <td>83</td>\n",
       "      <td>39</td>\n",
       "      <td>Good</td>\n",
       "      <td>PM2.5</td>\n",
       "      <td>06-083-2011</td>\n",
       "      <td>11</td>\n",
       "    </tr>\n",
       "    <tr>\n",
       "      <th>2017-01-03</th>\n",
       "      <td>83</td>\n",
       "      <td>71</td>\n",
       "      <td>Moderate</td>\n",
       "      <td>PM10</td>\n",
       "      <td>06-083-4003</td>\n",
       "      <td>12</td>\n",
       "    </tr>\n",
       "    <tr>\n",
       "      <th>2017-01-04</th>\n",
       "      <td>83</td>\n",
       "      <td>34</td>\n",
       "      <td>Good</td>\n",
       "      <td>Ozone</td>\n",
       "      <td>06-083-4003</td>\n",
       "      <td>13</td>\n",
       "    </tr>\n",
       "    <tr>\n",
       "      <th>2017-01-05</th>\n",
       "      <td>83</td>\n",
       "      <td>37</td>\n",
       "      <td>Good</td>\n",
       "      <td>Ozone</td>\n",
       "      <td>06-083-4003</td>\n",
       "      <td>12</td>\n",
       "    </tr>\n",
       "    <tr>\n",
       "      <th>...</th>\n",
       "      <td>...</td>\n",
       "      <td>...</td>\n",
       "      <td>...</td>\n",
       "      <td>...</td>\n",
       "      <td>...</td>\n",
       "      <td>...</td>\n",
       "    </tr>\n",
       "    <tr>\n",
       "      <th>2018-12-27</th>\n",
       "      <td>83</td>\n",
       "      <td>37</td>\n",
       "      <td>Good</td>\n",
       "      <td>Ozone</td>\n",
       "      <td>06-083-1025</td>\n",
       "      <td>11</td>\n",
       "    </tr>\n",
       "    <tr>\n",
       "      <th>2018-12-28</th>\n",
       "      <td>83</td>\n",
       "      <td>39</td>\n",
       "      <td>Good</td>\n",
       "      <td>Ozone</td>\n",
       "      <td>06-083-1021</td>\n",
       "      <td>12</td>\n",
       "    </tr>\n",
       "    <tr>\n",
       "      <th>2018-12-29</th>\n",
       "      <td>83</td>\n",
       "      <td>39</td>\n",
       "      <td>Good</td>\n",
       "      <td>Ozone</td>\n",
       "      <td>06-083-1021</td>\n",
       "      <td>12</td>\n",
       "    </tr>\n",
       "    <tr>\n",
       "      <th>2018-12-30</th>\n",
       "      <td>83</td>\n",
       "      <td>41</td>\n",
       "      <td>Good</td>\n",
       "      <td>PM2.5</td>\n",
       "      <td>06-083-1008</td>\n",
       "      <td>12</td>\n",
       "    </tr>\n",
       "    <tr>\n",
       "      <th>2018-12-31</th>\n",
       "      <td>83</td>\n",
       "      <td>38</td>\n",
       "      <td>Good</td>\n",
       "      <td>Ozone</td>\n",
       "      <td>06-083-2004</td>\n",
       "      <td>12</td>\n",
       "    </tr>\n",
       "  </tbody>\n",
       "</table>\n",
       "<p>730 rows × 6 columns</p>\n",
       "</div>"
      ],
      "text/plain": [
       "            county_code  aqi  category defining_parameter defining_site  \\\n",
       "date                                                                      \n",
       "2017-01-01           83   39      Good              Ozone   06-083-4003   \n",
       "2017-01-02           83   39      Good              PM2.5   06-083-2011   \n",
       "2017-01-03           83   71  Moderate               PM10   06-083-4003   \n",
       "2017-01-04           83   34      Good              Ozone   06-083-4003   \n",
       "2017-01-05           83   37      Good              Ozone   06-083-4003   \n",
       "...                 ...  ...       ...                ...           ...   \n",
       "2018-12-27           83   37      Good              Ozone   06-083-1025   \n",
       "2018-12-28           83   39      Good              Ozone   06-083-1021   \n",
       "2018-12-29           83   39      Good              Ozone   06-083-1021   \n",
       "2018-12-30           83   41      Good              PM2.5   06-083-1008   \n",
       "2018-12-31           83   38      Good              Ozone   06-083-2004   \n",
       "\n",
       "            number_of_sites_reporting  \n",
       "date                                   \n",
       "2017-01-01                         12  \n",
       "2017-01-02                         11  \n",
       "2017-01-03                         12  \n",
       "2017-01-04                         13  \n",
       "2017-01-05                         12  \n",
       "...                               ...  \n",
       "2018-12-27                         11  \n",
       "2018-12-28                         12  \n",
       "2018-12-29                         12  \n",
       "2018-12-30                         12  \n",
       "2018-12-31                         12  \n",
       "\n",
       "[730 rows x 6 columns]"
      ]
     },
     "execution_count": 31,
     "metadata": {},
     "output_type": "execute_result"
    }
   ],
   "source": [
    "aqi_sb.date = pd.to_datetime(aqi_sb['date'])\n",
    "aqi_sb = aqi_sb.set_index('date')\n",
    "aqi_sb"
   ]
  },
  {
   "cell_type": "markdown",
   "metadata": {
    "deletable": false,
    "editable": false
   },
   "source": [
    "<!-- END QUESTION -->\n",
    "\n",
    "## 8\n",
    "In the next cell we will calculate an average over a [rolling window](https://pandas.pydata.org/pandas-docs/stable/reference/api/pandas.Series.rolling.html) using the `rolling()`method for `pandas.Series`:\n",
    "\n",
    "- `rolling()` is a lazy method, so we need to specify what we want to calculate over each window before it does something. \n",
    "- in this example we use the aggregator function `mean()` to calculate the average over each window\n",
    "- the parameter '5D' indicates we want the window for our rolling average to be 5 days. \n",
    "- we get a `pandas.Series` as ouput\n",
    "\n",
    "Store your answer in the `rolling_average` variable. You should have two columns in your series, `date` and the averages. "
   ]
  },
  {
   "cell_type": "code",
   "execution_count": 39,
   "metadata": {
    "tags": []
   },
   "outputs": [
    {
     "data": {
      "application/vnd.microsoft.datawrangler.viewer.v0+json": {
       "columns": [
        {
         "name": "date",
         "rawType": "datetime64[ns]",
         "type": "datetime"
        },
        {
         "name": "aqi",
         "rawType": "float64",
         "type": "float"
        }
       ],
       "ref": "09d0be44-3cb9-4c3a-89ba-4ba1f717a370",
       "rows": [
        [
         "2017-01-01 00:00:00",
         "39.0"
        ],
        [
         "2017-01-02 00:00:00",
         "39.0"
        ],
        [
         "2017-01-03 00:00:00",
         "49.666666666666664"
        ],
        [
         "2017-01-04 00:00:00",
         "45.75"
        ],
        [
         "2017-01-05 00:00:00",
         "44.0"
        ],
        [
         "2017-01-06 00:00:00",
         "44.4"
        ],
        [
         "2017-01-07 00:00:00",
         "44.6"
        ],
        [
         "2017-01-08 00:00:00",
         "83.2"
        ],
        [
         "2017-01-09 00:00:00",
         "83.4"
        ],
        [
         "2017-01-10 00:00:00",
         "83.0"
        ],
        [
         "2017-01-11 00:00:00",
         "83.6"
        ],
        [
         "2017-01-12 00:00:00",
         "83.6"
        ],
        [
         "2017-01-13 00:00:00",
         "38.4"
        ],
        [
         "2017-01-14 00:00:00",
         "38.8"
        ],
        [
         "2017-01-15 00:00:00",
         "39.0"
        ],
        [
         "2017-01-16 00:00:00",
         "37.8"
        ],
        [
         "2017-01-17 00:00:00",
         "38.2"
        ],
        [
         "2017-01-18 00:00:00",
         "39.8"
        ],
        [
         "2017-01-19 00:00:00",
         "40.4"
        ],
        [
         "2017-01-20 00:00:00",
         "41.4"
        ],
        [
         "2017-01-21 00:00:00",
         "42.8"
        ],
        [
         "2017-01-22 00:00:00",
         "42.6"
        ],
        [
         "2017-01-23 00:00:00",
         "41.6"
        ],
        [
         "2017-01-24 00:00:00",
         "41.4"
        ],
        [
         "2017-01-25 00:00:00",
         "41.4"
        ],
        [
         "2017-01-26 00:00:00",
         "40.8"
        ],
        [
         "2017-01-27 00:00:00",
         "42.8"
        ],
        [
         "2017-01-28 00:00:00",
         "43.2"
        ],
        [
         "2017-01-29 00:00:00",
         "44.2"
        ],
        [
         "2017-01-30 00:00:00",
         "44.6"
        ],
        [
         "2017-01-31 00:00:00",
         "45.4"
        ],
        [
         "2017-02-01 00:00:00",
         "46.2"
        ],
        [
         "2017-02-02 00:00:00",
         "63.0"
        ],
        [
         "2017-02-03 00:00:00",
         "60.6"
        ],
        [
         "2017-02-04 00:00:00",
         "59.2"
        ],
        [
         "2017-02-05 00:00:00",
         "57.2"
        ],
        [
         "2017-02-06 00:00:00",
         "53.8"
        ],
        [
         "2017-02-07 00:00:00",
         "33.8"
        ],
        [
         "2017-02-08 00:00:00",
         "31.4"
        ],
        [
         "2017-02-09 00:00:00",
         "30.4"
        ],
        [
         "2017-02-10 00:00:00",
         "31.2"
        ],
        [
         "2017-02-11 00:00:00",
         "31.4"
        ],
        [
         "2017-02-12 00:00:00",
         "32.8"
        ],
        [
         "2017-02-13 00:00:00",
         "35.4"
        ],
        [
         "2017-02-14 00:00:00",
         "38.6"
        ],
        [
         "2017-02-15 00:00:00",
         "40.8"
        ],
        [
         "2017-02-16 00:00:00",
         "41.0"
        ],
        [
         "2017-02-17 00:00:00",
         "43.6"
        ],
        [
         "2017-02-18 00:00:00",
         "45.8"
        ],
        [
         "2017-02-19 00:00:00",
         "44.6"
        ]
       ],
       "shape": {
        "columns": 1,
        "rows": 730
       }
      },
      "text/html": [
       "<div>\n",
       "<style scoped>\n",
       "    .dataframe tbody tr th:only-of-type {\n",
       "        vertical-align: middle;\n",
       "    }\n",
       "\n",
       "    .dataframe tbody tr th {\n",
       "        vertical-align: top;\n",
       "    }\n",
       "\n",
       "    .dataframe thead th {\n",
       "        text-align: right;\n",
       "    }\n",
       "</style>\n",
       "<table border=\"1\" class=\"dataframe\">\n",
       "  <thead>\n",
       "    <tr style=\"text-align: right;\">\n",
       "      <th></th>\n",
       "      <th>aqi</th>\n",
       "    </tr>\n",
       "    <tr>\n",
       "      <th>date</th>\n",
       "      <th></th>\n",
       "    </tr>\n",
       "  </thead>\n",
       "  <tbody>\n",
       "    <tr>\n",
       "      <th>2017-01-01</th>\n",
       "      <td>39.000000</td>\n",
       "    </tr>\n",
       "    <tr>\n",
       "      <th>2017-01-02</th>\n",
       "      <td>39.000000</td>\n",
       "    </tr>\n",
       "    <tr>\n",
       "      <th>2017-01-03</th>\n",
       "      <td>49.666667</td>\n",
       "    </tr>\n",
       "    <tr>\n",
       "      <th>2017-01-04</th>\n",
       "      <td>45.750000</td>\n",
       "    </tr>\n",
       "    <tr>\n",
       "      <th>2017-01-05</th>\n",
       "      <td>44.000000</td>\n",
       "    </tr>\n",
       "    <tr>\n",
       "      <th>...</th>\n",
       "      <td>...</td>\n",
       "    </tr>\n",
       "    <tr>\n",
       "      <th>2018-12-27</th>\n",
       "      <td>41.200000</td>\n",
       "    </tr>\n",
       "    <tr>\n",
       "      <th>2018-12-28</th>\n",
       "      <td>38.600000</td>\n",
       "    </tr>\n",
       "    <tr>\n",
       "      <th>2018-12-29</th>\n",
       "      <td>38.200000</td>\n",
       "    </tr>\n",
       "    <tr>\n",
       "      <th>2018-12-30</th>\n",
       "      <td>38.200000</td>\n",
       "    </tr>\n",
       "    <tr>\n",
       "      <th>2018-12-31</th>\n",
       "      <td>38.800000</td>\n",
       "    </tr>\n",
       "  </tbody>\n",
       "</table>\n",
       "<p>730 rows × 1 columns</p>\n",
       "</div>"
      ],
      "text/plain": [
       "                  aqi\n",
       "date                 \n",
       "2017-01-01  39.000000\n",
       "2017-01-02  39.000000\n",
       "2017-01-03  49.666667\n",
       "2017-01-04  45.750000\n",
       "2017-01-05  44.000000\n",
       "...               ...\n",
       "2018-12-27  41.200000\n",
       "2018-12-28  38.600000\n",
       "2018-12-29  38.200000\n",
       "2018-12-30  38.200000\n",
       "2018-12-31  38.800000\n",
       "\n",
       "[730 rows x 1 columns]"
      ]
     },
     "execution_count": 39,
     "metadata": {},
     "output_type": "execute_result"
    }
   ],
   "source": [
    "# Calculate AQI rolling average over 5 days\n",
    "rolling_average = aqi_sb.rolling('5D').mean('aqi').drop(columns=['county_code', 'number_of_sites_reporting'])\n",
    "rolling_average"
   ]
  },
  {
   "cell_type": "code",
   "execution_count": 40,
   "metadata": {
    "deletable": false,
    "editable": false
   },
   "outputs": [
    {
     "data": {
      "text/html": [
       "<p><strong><pre style='display: inline;'>q8</pre></strong> passed! 🌈</p>"
      ],
      "text/plain": [
       "q8 results: All test cases passed!"
      ]
     },
     "execution_count": 40,
     "metadata": {},
     "output_type": "execute_result"
    }
   ],
   "source": [
    "grader.check(\"q8\")"
   ]
  },
  {
   "cell_type": "markdown",
   "metadata": {
    "deletable": false,
    "editable": false
   },
   "source": [
    "## 9 \n",
    "\n",
    "Without creating any new variables, add the mean of the AQI over a 5-day rolling window as a new column named `five_day_average` to the `aqi_sb` dataframe. "
   ]
  },
  {
   "cell_type": "code",
   "execution_count": null,
   "metadata": {
    "tags": []
   },
   "outputs": [],
   "source": [
    "aqi_sb"
   ]
  },
  {
   "cell_type": "code",
   "execution_count": null,
   "metadata": {
    "deletable": false,
    "editable": false
   },
   "outputs": [],
   "source": [
    "grader.check(\"q9\")"
   ]
  },
  {
   "cell_type": "markdown",
   "metadata": {
    "deletable": false,
    "editable": false
   },
   "source": [
    "<!-- BEGIN QUESTION -->\n",
    "\n",
    "## 10\n",
    "Make a line plot showing both the daily AQI and the 5-day average (5-day average on top of the AQI). Make necessary updates for the plot to be accurate, informative, and polished, even if simple. You're welcome to use plotting methods and packages beyond what we have covered in class! \n",
    "\n",
    "Can you see the AQI going up during the Thomas Fire in December 2017?"
   ]
  },
  {
   "cell_type": "markdown",
   "metadata": {
    "tags": []
   },
   "source": [
    "---\n",
    "\n",
    "To double-check your work, the cell below will rerun all of the autograder tests."
   ]
  },
  {
   "cell_type": "code",
   "execution_count": null,
   "metadata": {},
   "outputs": [],
   "source": [
    "grader.check_all()"
   ]
  },
  {
   "cell_type": "markdown",
   "metadata": {
    "deletable": false,
    "editable": false,
    "tags": []
   },
   "source": [
    "<!-- END QUESTION -->\n",
    "\n",
    "## 11\n",
    "\n",
    "\n",
    "Collect all the relevant code into the first blank cell of the notebook titled \"COMPLETE WORKFLOW\". This single cell will have the end-to-end workflow: from importing libraries and loading the data, to producing the graph. The *only* ouput of this cell should be the graph you produced in the previous exercise. Further guidance on what to include in this final workflow is in the [assignment rubric](https://docs.google.com/document/d/1x0BoU6IH4cnOR1-n7i9CYQ9wUC37yDpYlQ4j6rCfcsU/edit?tab=t.0)."
   ]
  }
 ],
 "metadata": {
  "kernelspec": {
   "display_name": "eds220-env",
   "language": "python",
   "name": "python3"
  },
  "language_info": {
   "codemirror_mode": {
    "name": "ipython",
    "version": 3
   },
   "file_extension": ".py",
   "mimetype": "text/x-python",
   "name": "python",
   "nbconvert_exporter": "python",
   "pygments_lexer": "ipython3",
   "version": "3.11.4"
  }
 },
 "nbformat": 4,
 "nbformat_minor": 4
}
